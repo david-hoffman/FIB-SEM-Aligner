{
 "cells": [
  {
   "cell_type": "markdown",
   "metadata": {
    "deletable": true,
    "editable": true
   },
   "source": [
    "# FIB-SEM Registration (FFT)\n",
    "\n",
    "http://docs.opencv.org/3.0-beta/doc/py_tutorials/py_feature2d/py_feature_homography/py_feature_homography.html\n",
    "\n",
    "http://docs.opencv.org/3.1.0/da/df5/tutorial_py_sift_intro.html\n",
    "\n",
    "https://www.learnopencv.com/image-alignment-ecc-in-opencv-c-python/\n",
    "\n",
    "Maybe I should be doing everything in terms of a homography matrix, then everything is matrix multiply."
   ]
  },
  {
   "cell_type": "code",
   "execution_count": null,
   "metadata": {
    "collapsed": false,
    "deletable": true,
    "editable": true
   },
   "outputs": [],
   "source": [
    "%matplotlib inline\n",
    "import numpy as np\n",
    "# better image reader than np\n",
    "from scipy.misc import imread, imsave\n",
    "import matplotlib.pyplot as plt\n",
    "# three different registration packages\n",
    "# not dft based\n",
    "import cv2\n",
    "# dft based\n",
    "from skimage.feature import register_translation as register_translation_base"
   ]
  },
  {
   "cell_type": "code",
   "execution_count": null,
   "metadata": {
    "collapsed": false,
    "deletable": true,
    "editable": true
   },
   "outputs": [],
   "source": [
    "%load_ext autoreload\n",
    "%autoreload 2\n",
    "from imreg_dph import *"
   ]
  },
  {
   "cell_type": "code",
   "execution_count": null,
   "metadata": {
    "collapsed": false,
    "deletable": true,
    "editable": true
   },
   "outputs": [],
   "source": [
    "# AffineTransform Tests\n",
    "af1 = AffineTransform(translation=(1, 2))\n",
    "af2 = AffineTransform(translation=(5, 3))\n",
    "af3 = af1 @ af2\n",
    "assert np.array_equal(af3.translation, (6, 5))\n",
    "assert af3 == af2 @ af1\n",
    "\n",
    "af1 = AffineTransform(rotation=2)\n",
    "af2 = AffineTransform(rotation=1)\n",
    "af3 = af1 @ af2\n",
    "assert af3.rotation == 3\n",
    "assert af3 == af2 @ af1"
   ]
  },
  {
   "cell_type": "code",
   "execution_count": null,
   "metadata": {
    "collapsed": true,
    "deletable": true,
    "editable": true
   },
   "outputs": [],
   "source": [
    "# testing\n",
    "from skimage.data import astronaut\n",
    "from skimage.color import rgb2gray"
   ]
  },
  {
   "cell_type": "code",
   "execution_count": null,
   "metadata": {
    "collapsed": false,
    "deletable": true,
    "editable": true
   },
   "outputs": [],
   "source": [
    "astro = rgb2gray(astronaut())[:,:]"
   ]
  },
  {
   "cell_type": "code",
   "execution_count": null,
   "metadata": {
    "collapsed": false,
    "deletable": true,
    "editable": true
   },
   "outputs": [],
   "source": [
    "plt.matshow(astro)"
   ]
  },
  {
   "cell_type": "code",
   "execution_count": null,
   "metadata": {
    "collapsed": false,
    "deletable": true,
    "editable": true
   },
   "outputs": [],
   "source": [
    "logpolar(astro)[1]"
   ]
  },
  {
   "cell_type": "code",
   "execution_count": null,
   "metadata": {
    "collapsed": false,
    "deletable": true,
    "editable": true
   },
   "outputs": [],
   "source": [
    "plt.matshow(logpolar(astro)[0])"
   ]
  },
  {
   "cell_type": "code",
   "execution_count": null,
   "metadata": {
    "collapsed": false,
    "deletable": true,
    "editable": true
   },
   "outputs": [],
   "source": [
    "plt.matshow(warp(astro, AffineTransform(rotation=np.pi/4)))"
   ]
  },
  {
   "cell_type": "code",
   "execution_count": null,
   "metadata": {
    "collapsed": false,
    "deletable": true,
    "editable": true
   },
   "outputs": [],
   "source": [
    "test_af = AffineTransform(rotation=.02, translation=(9, -5), scale=(.95, .95))\n",
    "astro2 = warp(astro, test_af)\n",
    "plt.matshow(astro2)"
   ]
  },
  {
   "cell_type": "code",
   "execution_count": null,
   "metadata": {
    "collapsed": true,
    "deletable": true,
    "editable": true
   },
   "outputs": [],
   "source": [
    "from dphplotting import mip, slice_plot\n",
    "from dphutils import slice_maker"
   ]
  },
  {
   "cell_type": "code",
   "execution_count": null,
   "metadata": {
    "collapsed": false,
    "deletable": true,
    "editable": true
   },
   "outputs": [],
   "source": [
    "af = similarity(astro, astro2)"
   ]
  },
  {
   "cell_type": "code",
   "execution_count": null,
   "metadata": {
    "collapsed": false
   },
   "outputs": [],
   "source": [
    "print(af)"
   ]
  },
  {
   "cell_type": "code",
   "execution_count": null,
   "metadata": {
    "collapsed": false,
    "deletable": true,
    "editable": true
   },
   "outputs": [],
   "source": [
    "resid = (af @ test_af)\n",
    "print(resid)"
   ]
  },
  {
   "cell_type": "code",
   "execution_count": null,
   "metadata": {
    "collapsed": false,
    "deletable": true,
    "editable": true
   },
   "outputs": [],
   "source": [
    "plt.matshow(astro2)\n",
    "im2 = warp(astro, af)\n",
    "plt.matshow(im2)\n",
    "plt.matshow(astro)\n",
    "plt.matshow(im2 - astro)"
   ]
  },
  {
   "cell_type": "code",
   "execution_count": null,
   "metadata": {
    "collapsed": false,
    "deletable": true,
    "editable": true
   },
   "outputs": [],
   "source": [
    "plt.matshow(astro)"
   ]
  },
  {
   "cell_type": "code",
   "execution_count": null,
   "metadata": {
    "collapsed": false
   },
   "outputs": [],
   "source": [
    "af"
   ]
  },
  {
   "cell_type": "code",
   "execution_count": null,
   "metadata": {
    "collapsed": true
   },
   "outputs": [],
   "source": [
    "def register_translation(im0, im1, upsample_factor=100):\n",
    "    \"\"\"Right now this uses the numpy fft implementation, we can speed it up by\n",
    "    dropping in fftw if we need to\"\"\"\n",
    "    shifts, error, phasediff = register_translation_base(im0, im1, upsample_factor)\n",
    "    af = AffineTransform(translation=shifts)\n",
    "    return af"
   ]
  },
  {
   "cell_type": "markdown",
   "metadata": {
    "collapsed": true,
    "deletable": true,
    "editable": true
   },
   "source": [
    "# OpenCV"
   ]
  },
  {
   "cell_type": "code",
   "execution_count": null,
   "metadata": {
    "collapsed": true,
    "deletable": true,
    "editable": true
   },
   "outputs": [],
   "source": [
    "import cv2"
   ]
  },
  {
   "cell_type": "code",
   "execution_count": null,
   "metadata": {
    "collapsed": false,
    "deletable": true,
    "editable": true
   },
   "outputs": [],
   "source": [
    "def register_ECC(im0, im1, warp_mode = cv2.MOTION_AFFINE, number_of_iterations = 50, termination_eps = 1e-3):\n",
    "    \"\"\"\n",
    "    # Specify the number of iterations.\n",
    "\n",
    "    # Specify the threshold of the increment\n",
    "    # in the correlation coefficient between two iterations;\n",
    "    \"\"\"\n",
    "    # Find size of image1\n",
    "    sz = im0.shape\n",
    "\n",
    "    # Define 2x3 or 3x3 matrices and initialize the matrix to identity\n",
    "    if warp_mode == cv2.MOTION_HOMOGRAPHY :\n",
    "        warp_matrix = np.eye(3, 3, dtype=np.float32)\n",
    "    else :\n",
    "        warp_matrix = np.eye(2, 3, dtype=np.float32)\n",
    "\n",
    "    # Define termination criteria\n",
    "    criteria = (cv2.TERM_CRITERIA_EPS | cv2.TERM_CRITERIA_COUNT, number_of_iterations,  termination_eps)\n",
    "\n",
    "    # Run the ECC algorithm. The results are stored in warp_matrix.\n",
    "    cc, warp_matrix = cv2.findTransformECC (im0, im1, warp_matrix, warp_mode, criteria)\n",
    "    \n",
    "    return AffineTransform(matrix=np.vstack((warp_matrix, (0,0,1))))"
   ]
  },
  {
   "cell_type": "code",
   "execution_count": null,
   "metadata": {
    "collapsed": false,
    "deletable": true,
    "editable": true
   },
   "outputs": [],
   "source": [
    "# Find size of image1\n",
    "sz = astro.shape\n",
    " \n",
    "# Define the motion model\n",
    "warp_mode = cv2.MOTION_AFFINE\n",
    " \n",
    "# Define 2x3 or 3x3 matrices and initialize the matrix to identity\n",
    "if warp_mode == cv2.MOTION_HOMOGRAPHY :\n",
    "    warp_matrix = np.eye(3, 3, dtype=np.float32)\n",
    "else :\n",
    "    warp_matrix = np.eye(2, 3, dtype=np.float32)\n",
    "    \n",
    "# Specify the number of iterations.\n",
    "number_of_iterations = 500;\n",
    " \n",
    "# Specify the threshold of the increment\n",
    "# in the correlation coefficient between two iterations\n",
    "termination_eps = 1e-8;\n",
    " \n",
    "# Define termination criteria\n",
    "criteria = (cv2.TERM_CRITERIA_EPS | cv2.TERM_CRITERIA_COUNT, number_of_iterations,  termination_eps)\n",
    " \n",
    "# Run the ECC algorithm. The results are stored in warp_matrix.\n",
    "%time (cc, warp_matrix) = cv2.findTransformECC (astro.astype(np.float32), astro2.astype(np.float32),warp_matrix, warp_mode, criteria)\n",
    "print(warp_matrix)\n",
    "if warp_mode == cv2.MOTION_HOMOGRAPHY :\n",
    "    # Use warpPerspective for Homography \n",
    "    astro2_aligned = cv2.warpPerspective(astro2, warp_matrix, (sz[1],sz[0]), flags=cv2.INTER_LINEAR + cv2.WARP_INVERSE_MAP)\n",
    "else :\n",
    "    # Use warpAffine for Translation, Euclidean and Affine\n",
    "    astro2_aligned = cv2.warpAffine(astro2, warp_matrix, (sz[1],sz[0]), flags=cv2.INTER_LINEAR + cv2.WARP_INVERSE_MAP);"
   ]
  },
  {
   "cell_type": "code",
   "execution_count": null,
   "metadata": {
    "collapsed": false,
    "deletable": true,
    "editable": true
   },
   "outputs": [],
   "source": [
    "af2 = register_ECC(astro.astype(np.float32), astro2.astype(np.float32))\n",
    "astro2_aligned = warp(astro2, af2)\n",
    "# Show final results\n",
    "plt.matshow(astro)\n",
    "plt.matshow(astro2)\n",
    "plt.matshow(astro2_aligned)\n",
    "plt.matshow(astro2_aligned - astro)"
   ]
  },
  {
   "cell_type": "code",
   "execution_count": null,
   "metadata": {
    "collapsed": false,
    "deletable": true,
    "editable": true
   },
   "outputs": [],
   "source": [
    "%timeit astro2_aligned = warp(astro2, af2)\n",
    "%timeit astro2_aligned = cv2.warpAffine(astro2, af2.params[:2], (sz[1],sz[0]), flags=cv2.INTER_LINEAR + cv2.WARP_INVERSE_MAP)"
   ]
  },
  {
   "cell_type": "code",
   "execution_count": null,
   "metadata": {
    "collapsed": false,
    "deletable": true,
    "editable": true
   },
   "outputs": [],
   "source": [
    "resid = (af2 @ test_af)\n",
    "print(resid.rotation)\n",
    "print(resid.scale)\n",
    "print(resid.shear)\n",
    "print(resid.translation)"
   ]
  }
 ],
 "metadata": {
  "kernelspec": {
   "display_name": "Python [default]",
   "language": "python",
   "name": "python3"
  },
  "language_info": {
   "codemirror_mode": {
    "name": "ipython",
    "version": 3
   },
   "file_extension": ".py",
   "mimetype": "text/x-python",
   "name": "python",
   "nbconvert_exporter": "python",
   "pygments_lexer": "ipython3",
   "version": "3.5.3"
  }
 },
 "nbformat": 4,
 "nbformat_minor": 2
}
