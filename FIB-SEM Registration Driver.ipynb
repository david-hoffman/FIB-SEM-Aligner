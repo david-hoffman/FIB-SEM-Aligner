{
 "cells": [
  {
   "cell_type": "markdown",
   "metadata": {
    "deletable": true,
    "editable": true
   },
   "source": [
    "# Actual stuff\n",
    "\n",
    "Launch two terminals from the main tree."
   ]
  },
  {
   "cell_type": "code",
   "execution_count": 1,
   "metadata": {
    "collapsed": true,
    "deletable": true,
    "editable": true
   },
   "outputs": [],
   "source": [
    "# get some basic os functions\n",
    "import os\n",
    "import glob\n",
    "# import our parallel processing framework\n",
    "import dask\n",
    "import dask.multiprocessing\n",
    "from dask.diagnostics import ProgressBar\n",
    "import distributed\n",
    "from distributed.diagnostics import progress\n",
    "# numpy and plotting\n",
    "import numpy as np\n",
    "from itertools import accumulate\n",
    "from operator import matmul\n",
    "%matplotlib inline\n",
    "import matplotlib.pyplot as plt\n",
    "# image reading and writing\n",
    "from skimage.external import tifffile as tif\n",
    "#\n",
    "import seaborn as sns\n",
    "# load our actual registration functions\n",
    "from imreg_dph import *\n",
    "# monkey patch in numpy's fft, pyfftw doesn't play nice with the cluster\n",
    "import imreg_dph\n",
    "imreg_dph.fft2 = np.fft.fft2\n",
    "imreg_dph.ifft2 = np.fft.ifft2\n",
    "imreg_dph.fftshift = np.fft.fftshift"
   ]
  },
  {
   "cell_type": "markdown",
   "metadata": {
    "deletable": true,
    "editable": true
   },
   "source": [
    "if running on the cluster we need to start our scheduler:\n",
    "\n",
    "    dask-scheduler --scheduler-file /groups/betzig/home/hoffmand/dask-scheduler.json\n",
    "\n",
    "this should be done on the same computer that's running this notebook (not windows, use login1 or login2 or\n",
    " a qlogin interactive session on the cluster)\n",
    " \n",
    "You can now open up a status window [http://[all ip addresses on host]:8787](http://localhost:8787)"
   ]
  },
  {
   "cell_type": "code",
   "execution_count": 2,
   "metadata": {
    "collapsed": false,
    "deletable": true,
    "editable": true
   },
   "outputs": [
    {
     "name": "stdout",
     "output_type": "stream",
     "text": [
      "Your job-array 20274135.1-32:1 (\"dask-worker\") has been submitted\n"
     ]
    }
   ],
   "source": [
    "# if running on cluster we need to start our workers\n",
    "!qsub -pe batch 32 -t 1-32 -b y -j y -o ./dask-log.log -cwd -V dask-worker --scheduler-file /groups/betzig/home/hoffmand/dask-scheduler.json"
   ]
  },
  {
   "cell_type": "code",
   "execution_count": 75,
   "metadata": {
    "collapsed": true,
    "deletable": true,
    "editable": true
   },
   "outputs": [],
   "source": [
    "# if running on the cluster we need to attached to the scheduler\n",
    "client = distributed.Client(scheduler_file=\"/groups/betzig/home/hoffmand/dask-scheduler.json\")"
   ]
  },
  {
   "cell_type": "code",
   "execution_count": 3,
   "metadata": {
    "collapsed": false,
    "deletable": true,
    "editable": true
   },
   "outputs": [
    {
     "data": {
      "text/plain": [
       "23749"
      ]
     },
     "execution_count": 3,
     "metadata": {},
     "output_type": "execute_result"
    }
   ],
   "source": [
    "# change this if needed\n",
    "paths = sorted(glob.iglob(\"/groups/hess/hesslab/Cryo_data/EM_data/17-7_20170220_CS2_Cell6/Cryo_20170220_*_InLens/*.tif\"))\n",
    "len(paths)"
   ]
  },
  {
   "cell_type": "code",
   "execution_count": 4,
   "metadata": {
    "collapsed": false,
    "deletable": true,
    "editable": true
   },
   "outputs": [
    {
     "data": {
      "text/plain": [
       "[('/groups/hess/hesslab/Cryo_data/EM_data/17-7_20170220_CS2_Cell6/Cryo_20170220_M03D31-M04D04_InLens/NVision40-3802_17-03-31_000030_0-0-0_InLens.tif',\n",
       "  '/groups/hess/hesslab/Cryo_data/EM_data/17-7_20170220_CS2_Cell6/Cryo_20170220_M03D31-M04D04_InLens/NVision40-3802_17-03-31_000133_0-0-0_InLens.tif'),\n",
       " ('/groups/hess/hesslab/Cryo_data/EM_data/17-7_20170220_CS2_Cell6/Cryo_20170220_M03D31-M04D04_InLens/NVision40-3802_17-03-31_000133_0-0-0_InLens.tif',\n",
       "  '/groups/hess/hesslab/Cryo_data/EM_data/17-7_20170220_CS2_Cell6/Cryo_20170220_M03D31-M04D04_InLens/NVision40-3802_17-03-31_000237_0-0-0_InLens.tif'),\n",
       " ('/groups/hess/hesslab/Cryo_data/EM_data/17-7_20170220_CS2_Cell6/Cryo_20170220_M03D31-M04D04_InLens/NVision40-3802_17-03-31_000237_0-0-0_InLens.tif',\n",
       "  '/groups/hess/hesslab/Cryo_data/EM_data/17-7_20170220_CS2_Cell6/Cryo_20170220_M03D31-M04D04_InLens/NVision40-3802_17-03-31_000340_0-0-0_InLens.tif'),\n",
       " ('/groups/hess/hesslab/Cryo_data/EM_data/17-7_20170220_CS2_Cell6/Cryo_20170220_M03D31-M04D04_InLens/NVision40-3802_17-03-31_000340_0-0-0_InLens.tif',\n",
       "  '/groups/hess/hesslab/Cryo_data/EM_data/17-7_20170220_CS2_Cell6/Cryo_20170220_M03D31-M04D04_InLens/NVision40-3802_17-03-31_000444_0-0-0_InLens.tif')]"
      ]
     },
     "execution_count": 4,
     "metadata": {},
     "output_type": "execute_result"
    }
   ],
   "source": [
    "# generate a list of pairs to register together\n",
    "pairs = [(paths[i], paths[i + 1]) for i in range(len(paths) - 1)]\n",
    "pairs[:4]"
   ]
  },
  {
   "cell_type": "code",
   "execution_count": 5,
   "metadata": {
    "collapsed": true,
    "deletable": true,
    "editable": true
   },
   "outputs": [],
   "source": [
    "def load_and_register(path0, path1, method=register_translation, *args, **kwargs):\n",
    "    \"\"\"Load two images defined by path0 and path1 (assumed to be tif) and register with meth\n",
    "    \n",
    "    Parameters\n",
    "    ----------\n",
    "    path0 : URI to data0\n",
    "    path1 : URI to data1\n",
    "    method : callable\n",
    "        the registration algortithm\n",
    "    args : args passed to meth\n",
    "    kwargs : kwargs passed to meth\n",
    "    \n",
    "    Returns\n",
    "    -------\n",
    "    af : AffineTransformation\n",
    "        The affine transformation that registers path1 to path0\n",
    "    \"\"\"\n",
    "    data0 = tif.imread(path0)\n",
    "    data1 = tif.imread(path1)\n",
    "    \n",
    "    return method(data0, data1, *args, **kwargs)"
   ]
  },
  {
   "cell_type": "code",
   "execution_count": 7,
   "metadata": {
    "collapsed": false,
    "deletable": true,
    "editable": true
   },
   "outputs": [
    {
     "name": "stdout",
     "output_type": "stream",
     "text": [
      "CPU times: user 14.6 s, sys: 1.61 s, total: 16.3 s\n",
      "Wall time: 6.13 s\n",
      "<AffineTransform: translation = [-1.87 -3.35], rotation =0.00, scale = [ 1.  1.], shear = 0.00>\n"
     ]
    }
   ],
   "source": [
    "# test the registration and time it\n",
    "%time af = load_and_register(*pairs[0], register_translation)\n",
    "print(af)"
   ]
  },
  {
   "cell_type": "code",
   "execution_count": 8,
   "metadata": {
    "collapsed": false,
    "deletable": true,
    "editable": true,
    "scrolled": true
   },
   "outputs": [
    {
     "ename": "NameError",
     "evalue": "name 'progress' is not defined",
     "output_type": "error",
     "traceback": [
      "\u001b[0;31m---------------------------------------------------------------------------\u001b[0m",
      "\u001b[0;31mNameError\u001b[0m                                 Traceback (most recent call last)",
      "\u001b[0;32m<ipython-input-8-e97bf0c48dc2>\u001b[0m in \u001b[0;36m<module>\u001b[0;34m()\u001b[0m\n\u001b[1;32m      1\u001b[0m \u001b[0mto_compute\u001b[0m \u001b[0;34m=\u001b[0m \u001b[0mdask\u001b[0m\u001b[0;34m.\u001b[0m\u001b[0mdelayed\u001b[0m\u001b[0;34m(\u001b[0m\u001b[0;34m[\u001b[0m\u001b[0mdask\u001b[0m\u001b[0;34m.\u001b[0m\u001b[0mdelayed\u001b[0m\u001b[0;34m(\u001b[0m\u001b[0mload_and_register\u001b[0m\u001b[0;34m,\u001b[0m \u001b[0mpure\u001b[0m\u001b[0;34m=\u001b[0m\u001b[0;32mTrue\u001b[0m\u001b[0;34m)\u001b[0m\u001b[0;34m(\u001b[0m\u001b[0mpath0\u001b[0m\u001b[0;34m,\u001b[0m \u001b[0mpath1\u001b[0m\u001b[0;34m,\u001b[0m \u001b[0mregister_translation\u001b[0m\u001b[0;34m)\u001b[0m \u001b[0;32mfor\u001b[0m \u001b[0mpath0\u001b[0m\u001b[0;34m,\u001b[0m \u001b[0mpath1\u001b[0m \u001b[0;32min\u001b[0m \u001b[0mpairs\u001b[0m\u001b[0;34m]\u001b[0m\u001b[0;34m)\u001b[0m\u001b[0;34m\u001b[0m\u001b[0m\n\u001b[1;32m      2\u001b[0m \u001b[0msub_res\u001b[0m \u001b[0;34m=\u001b[0m \u001b[0mclient\u001b[0m\u001b[0;34m.\u001b[0m\u001b[0mcompute\u001b[0m\u001b[0;34m(\u001b[0m\u001b[0mto_compute\u001b[0m\u001b[0;34m)\u001b[0m\u001b[0;34m\u001b[0m\u001b[0m\n\u001b[0;32m----> 3\u001b[0;31m \u001b[0mprogress\u001b[0m\u001b[0;34m(\u001b[0m\u001b[0msub_res\u001b[0m\u001b[0;34m)\u001b[0m\u001b[0;34m\u001b[0m\u001b[0m\n\u001b[0m",
      "\u001b[0;31mNameError\u001b[0m: name 'progress' is not defined"
     ]
    }
   ],
   "source": [
    "to_compute = dask.delayed([dask.delayed(load_and_register, pure=True)(path0, path1, register_translation) for path0, path1 in pairs])\n",
    "sub_res = client.compute(to_compute)\n",
    "progress(sub_res)"
   ]
  },
  {
   "cell_type": "code",
   "execution_count": 10,
   "metadata": {
    "collapsed": false,
    "deletable": true,
    "editable": true
   },
   "outputs": [
    {
     "data": {
      "application/vnd.jupyter.widget-view+json": {
       "model_id": "1c3c9484cef341f2b363aa6836dee925"
      }
     },
     "metadata": {},
     "output_type": "display_data"
    }
   ],
   "source": [
    "progress(sub_res)"
   ]
  },
  {
   "cell_type": "code",
   "execution_count": 8,
   "metadata": {
    "collapsed": true,
    "deletable": true,
    "editable": true
   },
   "outputs": [],
   "source": [
    "# Now we can propagate the transformations throughout the whole stack.\n",
    "def plot_af_accum(results):\n",
    "    results2 = list(accumulate(results, matmul))\n",
    "\n",
    "    # and plot the results\n",
    "    fig, axs = plt.subplots(2,2, figsize=(9,9), sharex=True)\n",
    "    axs = axs.flatten()\n",
    "    axs[0].plot(np.array([result.translation for result in results2]))\n",
    "    axs[3].plot(np.rad2deg(np.array([result.rotation for result in results2])))\n",
    "    axs[1].plot((np.array([result.scale for result in results2])))\n",
    "    axs[2].plot(np.rad2deg(np.array([result.shear for result in results2])))\n",
    "\n",
    "    axs[0].set_title(\"translation\")\n",
    "    axs[3].set_title(\"rotation\")\n",
    "    axs[1].set_title(\"scale\")\n",
    "    axs[2].set_title(\"shear\")"
   ]
  },
  {
   "cell_type": "code",
   "execution_count": 15,
   "metadata": {
    "collapsed": false,
    "deletable": true,
    "editable": true
   },
   "outputs": [
    {
     "data": {
      "image/png": "[encoded data removed]",
      "text/plain": [
       "<matplotlib.figure.Figure at 0x2b8c07e5b320>"
      ]
     },
     "metadata": {},
     "output_type": "display_data"
    }
   ],
   "source": [
    "results_register_translation = sub_res.result()\n",
    "plot_af_accum(results_register_translation)"
   ]
  },
  {
   "cell_type": "code",
   "execution_count": 9,
   "metadata": {
    "collapsed": false,
    "deletable": true,
    "editable": true
   },
   "outputs": [
    {
     "data": {
      "image/png": "[encoded data removed]",
      "text/plain": [
       "<matplotlib.figure.Figure at 0x2af6857a9630>"
      ]
     },
     "metadata": {},
     "output_type": "display_data"
    }
   ],
   "source": [
    "results_register_translation = [AffineTransform(d) for d in np.load(\"results_register_translation.npy\")]\n",
    "plot_af_accum(results_register_translation)"
   ]
  },
  {
   "cell_type": "code",
   "execution_count": 45,
   "metadata": {
    "collapsed": true,
    "deletable": true,
    "editable": true
   },
   "outputs": [],
   "source": [
    "# we can save the results in a numpy array\n",
    "np.save(\"results_register_translation.npy\", np.array([result.params for result in results_register_translation]))"
   ]
  },
  {
   "cell_type": "code",
   "execution_count": 104,
   "metadata": {
    "collapsed": true,
    "deletable": true,
    "editable": true
   },
   "outputs": [],
   "source": [
    "results_register_translation_accum = list(accumulate([AffineTransform(np.eye(3))] + results_register_translation, matmul))"
   ]
  },
  {
   "cell_type": "code",
   "execution_count": 103,
   "metadata": {
    "collapsed": true,
    "deletable": true,
    "editable": true
   },
   "outputs": [],
   "source": [
    "def load_transform_avg(paths, afs, shape, filename):\n",
    "    data = np.array([tif.imread(path) for path in paths])\n",
    "    data_warp = np.array([cv_warp(im, af, shape) for im, af in zip(data, afs)])\n",
    "    tif.imsave(filename, data_warp.mean(0).astype(data.dtype))"
   ]
  },
  {
   "cell_type": "code",
   "execution_count": 105,
   "metadata": {
    "collapsed": true,
    "deletable": true,
    "editable": true
   },
   "outputs": [],
   "source": [
    "paths_arr = np.array(paths)\n",
    "afs_array = np.array(results_register_translation_accum)"
   ]
  },
  {
   "cell_type": "code",
   "execution_count": 106,
   "metadata": {
    "collapsed": false,
    "deletable": true,
    "editable": true
   },
   "outputs": [
    {
     "data": {
      "text/plain": [
       "(23749,)"
      ]
     },
     "execution_count": 106,
     "metadata": {},
     "output_type": "execute_result"
    }
   ],
   "source": [
    "paths_arr.shape"
   ]
  },
  {
   "cell_type": "code",
   "execution_count": 107,
   "metadata": {
    "collapsed": false,
    "deletable": true,
    "editable": true
   },
   "outputs": [
    {
     "data": {
      "text/plain": [
       "(23749,)"
      ]
     },
     "execution_count": 107,
     "metadata": {},
     "output_type": "execute_result"
    }
   ],
   "source": [
    "afs_array.shape"
   ]
  },
  {
   "cell_type": "code",
   "execution_count": 108,
   "metadata": {
    "collapsed": true,
    "deletable": true,
    "editable": true
   },
   "outputs": [],
   "source": [
    "os.mkdir(\"/groups/hess/hesslab/Cryo_data/EM_data/17-7_20170220_CS2_Cell6/Test Align\")"
   ]
  },
  {
   "cell_type": "code",
   "execution_count": 110,
   "metadata": {
    "collapsed": true,
    "deletable": true,
    "editable": true
   },
   "outputs": [],
   "source": [
    "mydir = \"/groups/hess/hesslab/Cryo_data/EM_data/17-7_20170220_CS2_Cell6/Test Align/\""
   ]
  },
  {
   "cell_type": "code",
   "execution_count": 127,
   "metadata": {
    "collapsed": true,
    "deletable": true,
    "editable": true
   },
   "outputs": [],
   "source": [
    "to_compute = dask.delayed([dask.delayed(load_transform_avg, pure=True)(p, a, (5000, 11000), mydir + \"{:05d}.tif\".format(i))\n",
    "                          for i, (p, a) in enumerate(zip(paths_arr[:-1].reshape(-1, 4), afs_array[:-1].reshape(-1, 4)))\n",
    "                          ])"
   ]
  },
  {
   "cell_type": "code",
   "execution_count": 128,
   "metadata": {
    "collapsed": false,
    "deletable": true,
    "editable": true
   },
   "outputs": [
    {
     "name": "stderr",
     "output_type": "stream",
     "text": [
      "Widget Javascript not detected.  It may not be installed or enabled properly.\n"
     ]
    },
    {
     "data": {
      "application/vnd.jupyter.widget-view+json": {
       "model_id": "5c42e62255934dd9836a612db1d63100"
      }
     },
     "metadata": {},
     "output_type": "display_data"
    }
   ],
   "source": [
    "sub_res = client.compute(to_compute)\n",
    "progress(sub_res)"
   ]
  }
 ],
 "metadata": {
  "kernelspec": {
   "display_name": "Python 3",
   "language": "python",
   "name": "python3"
  },
  "language_info": {
   "codemirror_mode": {
    "name": "ipython",
    "version": 3
   },
   "file_extension": ".py",
   "mimetype": "text/x-python",
   "name": "python",
   "nbconvert_exporter": "python",
   "pygments_lexer": "ipython3",
   "version": "3.6.5"
  }
 },
 "nbformat": 4,
 "nbformat_minor": 2
}
