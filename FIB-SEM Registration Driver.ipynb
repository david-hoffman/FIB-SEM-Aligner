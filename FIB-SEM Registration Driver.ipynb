{
 "cells": [
  {
   "cell_type": "markdown",
   "metadata": {
    "collapsed": true,
    "deletable": true,
    "editable": true
   },
   "source": [
    "# Actual stuff"
   ]
  },
  {
   "cell_type": "code",
   "execution_count": null,
   "metadata": {
    "collapsed": false,
    "deletable": true,
    "editable": true
   },
   "outputs": [],
   "source": [
    "# get some basic os functions\n",
    "import os\n",
    "import glob\n",
    "# import our parallel processing framework\n",
    "import dask\n",
    "import dask.multiprocessing\n",
    "import distributed\n",
    "# numpy and plotting\n",
    "import numpy as np\n",
    "from itertools import accumulate\n",
    "from operator import matmul\n",
    "%matplotlib inline\n",
    "import matplotlib.pyplot as plt\n",
    "# image reading and righting\n",
    "from skimage.external import tifffile as tif\n",
    "# load our actual registration functions\n",
    "%load_ext autoreload\n",
    "%autoreload 2\n",
    "from imreg_dph import register_ECC, similarity, translation, register_translation"
   ]
  },
  {
   "cell_type": "markdown",
   "metadata": {},
   "source": [
    "if running on the cluster we need to start our scheduler:\n",
    "\n",
    "    dask-scheduler --scheduler-file /groups/betzig/home/hoffmand/dask-scheduler.json\n",
    "\n",
    "this should be done on the same computer that's running this notebook (not windows, login1 or login2 or\n",
    " a qlogin interactive session on the cluster)"
   ]
  },
  {
   "cell_type": "code",
   "execution_count": null,
   "metadata": {
    "collapsed": true
   },
   "outputs": [],
   "source": [
    "# if running on cluster we need to start our workers\n",
    "!qsub -pe batch 16 -l sandy=true -t 1-64 -b y -j y -o ./dask-log.log -cwd -V dask-worker --scheduler-file /groups/betzig/home/hoffmand/dask-scheduler.json"
   ]
  },
  {
   "cell_type": "code",
   "execution_count": null,
   "metadata": {
    "collapsed": false,
    "deletable": true,
    "editable": true
   },
   "outputs": [],
   "source": [
    "# if running on the cluster we need to attached to the scheduler\n",
    "client = Client(scheduler_file=\"/groups/betzig/home/hoffmand/dask-scheduler.json\")"
   ]
  },
  {
   "cell_type": "code",
   "execution_count": null,
   "metadata": {
    "collapsed": true,
    "deletable": true,
    "editable": true
   },
   "outputs": [],
   "source": [
    "# change this if needed\n",
    "paths = sorted(glob.iglob(\"/groups/hess/hesslab/Cryo_data/EM_Data/17-7_20170220_CS2_Cell6/Cryo_20170220_*_InLens/*.tif\"))\n",
    "len(paths)"
   ]
  },
  {
   "cell_type": "code",
   "execution_count": null,
   "metadata": {
    "collapsed": false,
    "deletable": true,
    "editable": true
   },
   "outputs": [],
   "source": [
    "# generate a list of pairs to register together\n",
    "pairs = [(paths[i], paths[i + 1]) for i in range(len(paths) - 1)]\n",
    "pairs[:4]"
   ]
  },
  {
   "cell_type": "code",
   "execution_count": null,
   "metadata": {
    "collapsed": true,
    "deletable": true,
    "editable": true
   },
   "outputs": [],
   "source": [
    "def load_and_register(path0, path1, method=register_translation, *args, **kwargs):\n",
    "    \"\"\"Load two images defined by path0 and path1 (assumed to be tif) and register with meth\n",
    "    \n",
    "    Parameters\n",
    "    ----------\n",
    "    path0 : URI to data0\n",
    "    path1 : URI to data1\n",
    "    method : callable\n",
    "        the registration algortithm\n",
    "    args : args passed to meth\n",
    "    kwargs : kwargs passed to meth\n",
    "    \n",
    "    Returns\n",
    "    -------\n",
    "    af : AffineTransformation\n",
    "        The affine transformation that registers path1 to path0\n",
    "    \"\"\"\n",
    "    data0 = tif.imread(path0)\n",
    "    data1 = tif.imread(path1)\n",
    "    \n",
    "    return method(data0, data1, *args, **kwargs)"
   ]
  },
  {
   "cell_type": "code",
   "execution_count": null,
   "metadata": {
    "collapsed": false,
    "deletable": true,
    "editable": true
   },
   "outputs": [],
   "source": [
    "# test the registration and time it\n",
    "%time af = load_and_register(*pairs[0])\n",
    "af"
   ]
  },
  {
   "cell_type": "code",
   "execution_count": null,
   "metadata": {
    "collapsed": false,
    "deletable": true,
    "editable": true,
    "scrolled": true
   },
   "outputs": [],
   "source": [
    "# as an example let's compute using ecc with translation and rotation\n",
    "%time to_compute = dask.delayed([dask.delayed(load_and_register, pure=True)(path0, path1, register_ECC, warp_mode=cv2.MOTION_EUCLIDEAN, num_iter=500, term_eps=1e-6) for path0, path1 in pairs])\n",
    "%time results_ecc = to_compute.compute()"
   ]
  },
  {
   "cell_type": "code",
   "execution_count": null,
   "metadata": {
    "collapsed": false,
    "deletable": true,
    "editable": true
   },
   "outputs": [],
   "source": [
    "# we can save the results in a numpy array\n",
    "np.save(\"results_ecc.npy\", np.array([result.params for result in results_ecc]))"
   ]
  },
  {
   "cell_type": "code",
   "execution_count": null,
   "metadata": {
    "collapsed": false,
    "deletable": true,
    "editable": true
   },
   "outputs": [],
   "source": [
    "# Now we can propagate the transformations throughout the whole stack.\n",
    "results_ecc2 = list(accumulate(results_ecc, matmul))"
   ]
  },
  {
   "cell_type": "code",
   "execution_count": null,
   "metadata": {
    "collapsed": false,
    "deletable": true,
    "editable": true
   },
   "outputs": [],
   "source": [
    "# and plot the results\n",
    "fig, axs = plt.subplots(3,1, figsize=(3,9))\n",
    "axs[0].plot(np.array([result.translation for result in results_ecc2]))\n",
    "axs[1].plot(np.rad2deg(np.array([result.rotation for result in results_ecc2])))\n",
    "axs[2].plot((np.array([result.scale for result in results_ecc2])))"
   ]
  },
  {
   "cell_type": "markdown",
   "metadata": {
    "collapsed": true,
    "deletable": true,
    "editable": true
   },
   "source": [
    "- apply transforms\n",
    "- materialization\n",
    "- apply and bin and materialize"
   ]
  },
  {
   "cell_type": "code",
   "execution_count": null,
   "metadata": {
    "collapsed": true
   },
   "outputs": [],
   "source": []
  }
 ],
 "metadata": {
  "kernelspec": {
   "display_name": "Python [default]",
   "language": "python",
   "name": "python3"
  },
  "language_info": {
   "codemirror_mode": {
    "name": "ipython",
    "version": 3
   },
   "file_extension": ".py",
   "mimetype": "text/x-python",
   "name": "python",
   "nbconvert_exporter": "python",
   "pygments_lexer": "ipython3",
   "version": "3.5.3"
  }
 },
 "nbformat": 4,
 "nbformat_minor": 2
}
