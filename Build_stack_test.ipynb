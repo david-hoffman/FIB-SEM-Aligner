{
 "cells": [
  {
   "cell_type": "code",
   "execution_count": 80,
   "metadata": {
    "collapsed": false
   },
   "outputs": [],
   "source": [
    "import glob\n",
    "import numpy as np\n",
    "from skimage import io\n",
    "from skimage.external import tifffile\n",
    "from skimage.transform import rescale\n",
    "from scipy.ndimage import zoom\n",
    "import time\n",
    "\n"
   ]
  },
  {
   "cell_type": "code",
   "execution_count": 81,
   "metadata": {
    "collapsed": true
   },
   "outputs": [],
   "source": [
    "search_directory = \"C:/Data\"\n",
    "file_mask = '0.png'\n",
    "chunk_names = glob.glob(search_directory + '/**/*' + file_mask,recursive=True)"
   ]
  },
  {
   "cell_type": "code",
   "execution_count": 82,
   "metadata": {
    "collapsed": false
   },
   "outputs": [
    {
     "name": "stdout",
     "output_type": "stream",
     "text": [
      "['C:/Data\\\\0\\\\1\\\\0\\\\0.png', 'C:/Data\\\\0\\\\10\\\\0\\\\0.png', 'C:/Data\\\\0\\\\100\\\\0\\\\0.png', 'C:/Data\\\\0\\\\1000\\\\0\\\\0.png', 'C:/Data\\\\0\\\\1001\\\\0\\\\0.png', 'C:/Data\\\\0\\\\1002\\\\0\\\\0.png', 'C:/Data\\\\0\\\\1003\\\\0\\\\0.png', 'C:/Data\\\\0\\\\1004\\\\0\\\\0.png', 'C:/Data\\\\0\\\\1005\\\\0\\\\0.png', 'C:/Data\\\\0\\\\1006\\\\0\\\\0.png', 'C:/Data\\\\0\\\\1007\\\\0\\\\0.png', 'C:/Data\\\\0\\\\1008\\\\0\\\\0.png', 'C:/Data\\\\0\\\\1009\\\\0\\\\0.png', 'C:/Data\\\\0\\\\101\\\\0\\\\0.png', 'C:/Data\\\\0\\\\1010\\\\0\\\\0.png', 'C:/Data\\\\0\\\\1011\\\\0\\\\0.png', 'C:/Data\\\\0\\\\1012\\\\0\\\\0.png', 'C:/Data\\\\0\\\\1013\\\\0\\\\0.png', 'C:/Data\\\\0\\\\1014\\\\0\\\\0.png', 'C:/Data\\\\0\\\\1015\\\\0\\\\0.png']\n"
     ]
    }
   ],
   "source": [
    "x = (chunk_names[0:20])\n",
    "print(x)"
   ]
  },
  {
   "cell_type": "code",
   "execution_count": 83,
   "metadata": {
    "collapsed": false
   },
   "outputs": [
    {
     "name": "stdout",
     "output_type": "stream",
     "text": [
      "1\n",
      "10\n",
      "100\n",
      "1000\n",
      "1001\n",
      "1002\n",
      "1003\n",
      "1004\n",
      "1005\n",
      "1006\n",
      "1007\n",
      "1008\n",
      "1009\n",
      "101\n",
      "1010\n",
      "1011\n",
      "1012\n",
      "1013\n",
      "1014\n",
      "1015\n"
     ]
    }
   ],
   "source": [
    "for fname in x:\n",
    "    print(fname.split(\"\\\\\")[-3])"
   ]
  },
  {
   "cell_type": "code",
   "execution_count": 85,
   "metadata": {
    "collapsed": false
   },
   "outputs": [
    {
     "name": "stdout",
     "output_type": "stream",
     "text": [
      "(40,)\n",
      "['C:/Data\\\\0\\\\1\\\\0\\\\0.png' 'C:/Data\\\\0\\\\2\\\\0\\\\0.png'\n",
      " 'C:/Data\\\\0\\\\3\\\\0\\\\0.png' 'C:/Data\\\\0\\\\4\\\\0\\\\0.png'\n",
      " 'C:/Data\\\\0\\\\5\\\\0\\\\0.png' 'C:/Data\\\\0\\\\6\\\\0\\\\0.png'\n",
      " 'C:/Data\\\\0\\\\7\\\\0\\\\0.png' 'C:/Data\\\\0\\\\8\\\\0\\\\0.png']\n"
     ]
    }
   ],
   "source": [
    "XY_bin = 2\n",
    "Z_bin = 8\n",
    "a = [int(fname.split(\"\\\\\")[-3]) for fname in chunk_names ]\n",
    "zz = np.asarray([xx for (yy,xx) in sorted(zip(a,chunk_names))])\n",
    "n_files = np.floor_divide(len(zz), Z_bin) * Z_bin\n",
    "n_files = 40\n",
    "print(zz[0:n_files].shape)\n",
    "b = zz[0:n_files].reshape(-1,8)\n",
    "print(b[0,:])\n",
    "\n",
    "target_file_name = 'C:/data/temp.tif'"
   ]
  },
  {
   "cell_type": "code",
   "execution_count": 86,
   "metadata": {
    "collapsed": false
   },
   "outputs": [],
   "source": [
    "\n",
    "xc = 1200\n",
    "dx = 2350\n",
    "yc = 1050\n",
    "dy = 1800\n",
    "xi = xc - dx/2\n",
    "xa = xi + dx\n",
    "\n",
    "yi = yc - dy/2\n",
    "ya = yi + dy\n",
    "\n",
    "dz = n_files/Z_bin\n",
    "\n",
    "indices = np.arange(dz)\n",
    "frame_names_2D = b[0:n_files].reshape(-1,Z_bin)"
   ]
  },
  {
   "cell_type": "code",
   "execution_count": 40,
   "metadata": {
    "collapsed": false
   },
   "outputs": [
    {
     "name": "stderr",
     "output_type": "stream",
     "text": [
      "C:\\Program Files\\Anaconda3\\lib\\site-packages\\ipykernel\\__main__.py:8: VisibleDeprecationWarning: using a non-integer number instead of an integer will result in an error in the future\n"
     ]
    },
    {
     "name": "stdout",
     "output_type": "stream",
     "text": [
      "C:/Data\\0\\4\\0\\0.png\n",
      "C:/Data\\0\\8\\0\\0.png\n",
      "C:/Data\\0\\12\\0\\0.png\n",
      "C:/Data\\0\\16\\0\\0.png\n",
      "C:/Data\\0\\20\\0\\0.png\n",
      "C:/Data\\0\\24\\0\\0.png\n",
      "C:/Data\\0\\28\\0\\0.png\n",
      "C:/Data\\0\\32\\0\\0.png\n",
      "C:/Data\\0\\36\\0\\0.png\n",
      "C:/Data\\0\\40\\0\\0.png\n",
      "10.091000080108643\n"
     ]
    }
   ],
   "source": [
    "t0 = time.time()\n",
    "with tifffile.TiffWriter(target_file_name, bigtiff=True) as tif:\n",
    "    for chunk_name, cnt in zip(frame_names_2D, indices):\n",
    "        #print('Transferring data file:  ', chunk_name)\n",
    "        new_frame = np.zeros((dy,dx,), dtype=float)\n",
    "        for fr in chunk_name:\n",
    "#             print(fr)\n",
    "            new_frame+= io.imread(fr)[yi:ya,xi:xa]\n",
    "        print(fr)\n",
    "        new_frame = new_frame/4\n",
    "        tif.save(new_frame.astype(int))\n",
    "    tif.close()\n",
    "t1 = time.time()\n",
    "print(t1-t0)"
   ]
  },
  {
   "cell_type": "code",
   "execution_count": 55,
   "metadata": {
    "collapsed": false
   },
   "outputs": [
    {
     "name": "stderr",
     "output_type": "stream",
     "text": [
      "C:\\Program Files\\Anaconda3\\lib\\site-packages\\ipykernel\\__main__.py:8: VisibleDeprecationWarning: using a non-integer number instead of an integer will result in an error in the future\n",
      "C:\\Program Files\\Anaconda3\\lib\\site-packages\\scipy\\ndimage\\interpolation.py:571: RuntimeWarning: divide by zero encountered in true_divide\n",
      "  zoom = (numpy.array(input.shape) - 1) / zoom_div\n"
     ]
    },
    {
     "name": "stdout",
     "output_type": "stream",
     "text": [
      "Transferring CHUNK:   0.0\n",
      "Transferring CHUNK:   1.0\n",
      "Transferring CHUNK:   2.0\n",
      "Transferring CHUNK:   3.0\n",
      "Transferring CHUNK:   4.0\n",
      "Transferring CHUNK:   5.0\n",
      "Transferring CHUNK:   6.0\n",
      "Transferring CHUNK:   7.0\n",
      "Transferring CHUNK:   8.0\n",
      "Transferring CHUNK:   9.0\n",
      "43.519999980926514\n",
      "(1, 1800, 2350)\n"
     ]
    }
   ],
   "source": [
    "start = time.time()\n",
    "with tifffile.TiffWriter(target_file_name, bigtiff=True) as tif:\n",
    "    for chunk_names, cnt in zip(frame_names_2D, indices):\n",
    "    # frame_subset = np.zeros((Z_bin, dy,dx,), dtype=float)\n",
    "    # for fr in chunk_name:\n",
    "    # new_frame+= io.imread(fr)[yi:ya,xi:xa]\n",
    "#         print(chunk_names)\n",
    "        frame_subset = np.array([io.imread(fr)[yi:ya,xi:xa] for fr in chunk_names])\n",
    "        # new_frame = new_frame/Z_bin\n",
    "        new_frame = zoom(frame_subset,[1/Z_bin, 1/XY_bin, 1/XY_bin])\n",
    "        tif.save(new_frame.astype(frame_subset.dtype))\n",
    "        print('Transferring CHUNK:  ', cnt)\n",
    "    tif.close()\n",
    "end = time.time()\n",
    "print(end - start)\n",
    "print(new_frame.shape)"
   ]
  },
  {
   "cell_type": "code",
   "execution_count": 43,
   "metadata": {
    "collapsed": false
   },
   "outputs": [],
   "source": [
    "def bin_ndarray(ndarray, new_shape, operation='sum'):\n",
    "    \"\"\"\n",
    "    Bins an ndarray in all axes based on the target shape, by summing or\n",
    "        averaging.\n",
    "\n",
    "    Number of output dimensions must match number of input dimensions and \n",
    "        new axes must divide old ones.\n",
    "\n",
    "    Example\n",
    "    -------\n",
    "    >>> m = np.arange(0,100,1).reshape((10,10))\n",
    "    >>> n = bin_ndarray(m, new_shape=(5,5), operation='sum')\n",
    "    >>> print(n)\n",
    "\n",
    "    [[ 22  30  38  46  54]\n",
    "     [102 110 118 126 134]\n",
    "     [182 190 198 206 214]\n",
    "     [262 270 278 286 294]\n",
    "     [342 350 358 366 374]]\n",
    "\n",
    "    \"\"\"\n",
    "    operation = operation.lower()\n",
    "    if not operation in ['sum', 'mean']:\n",
    "        raise ValueError(\"Operation not supported.\")\n",
    "    if ndarray.ndim != len(new_shape):\n",
    "        raise ValueError(\"Shape mismatch: {} -> {}\".format(ndarray.shape,\n",
    "                                                           new_shape))\n",
    "    compression_pairs = [(d, c//d) for d,c in zip(new_shape,\n",
    "                                                  ndarray.shape)]\n",
    "    flattened = [l for p in compression_pairs for l in p]\n",
    "    ndarray = ndarray.reshape(flattened)\n",
    "    for i in range(len(new_shape)):\n",
    "        op = getattr(ndarray, operation)\n",
    "        ndarray = op(-1*(i+1))\n",
    "    return ndarray"
   ]
  },
  {
   "cell_type": "code",
   "execution_count": 92,
   "metadata": {
    "collapsed": false
   },
   "outputs": [
    {
     "name": "stdout",
     "output_type": "stream",
     "text": [
      "(1, 900.0, 1175.0)\n"
     ]
    },
    {
     "name": "stderr",
     "output_type": "stream",
     "text": [
      "C:\\Program Files\\Anaconda3\\lib\\site-packages\\ipykernel\\__main__.py:6: VisibleDeprecationWarning: using a non-integer number instead of an integer will result in an error in the future\n",
      "C:\\Program Files\\Anaconda3\\lib\\site-packages\\ipykernel\\__main__.py:31: VisibleDeprecationWarning: using a non-integer number instead of an integer will result in an error in the future\n"
     ]
    },
    {
     "name": "stdout",
     "output_type": "stream",
     "text": [
      "Transferring CHUNK:   0.0\n",
      "Transferring CHUNK:   1.0\n",
      "Transferring CHUNK:   2.0\n",
      "Transferring CHUNK:   3.0\n",
      "Transferring CHUNK:   4.0\n",
      "11.225000143051147\n"
     ]
    }
   ],
   "source": [
    "start = time.time()\n",
    "nsh = (1,dy/XY_bin,dx/XY_bin)\n",
    "print(nsh)\n",
    "with tifffile.TiffWriter(target_file_name, bigtiff=True) as tif:\n",
    "    for chunk_names, cnt in zip(frame_names_2D, indices):\n",
    "        x = np.array([io.imread(fr)[yi:ya,xi:xa] for fr in chunk_names])\n",
    "        frame_subset = bin_ndarray(np.asarray(x,dtype=np.float32), new_shape=nsh, operation='mean')\n",
    "        tif.save(frame_subset.astype(x.dtype))\n",
    "        print('Transferring CHUNK:  ', cnt)\n",
    "    tif.close()\n",
    "end = time.time()\n",
    "print(end - start)"
   ]
  },
  {
   "cell_type": "code",
   "execution_count": 88,
   "metadata": {
    "collapsed": true
   },
   "outputs": [],
   "source": [
    "tif.close()\n"
   ]
  },
  {
   "cell_type": "code",
   "execution_count": null,
   "metadata": {
    "collapsed": true
   },
   "outputs": [],
   "source": []
  }
 ],
 "metadata": {
  "anaconda-cloud": {},
  "kernelspec": {
   "display_name": "Python [conda root]",
   "language": "python",
   "name": "conda-root-py"
  },
  "language_info": {
   "codemirror_mode": {
    "name": "ipython",
    "version": 3
   },
   "file_extension": ".py",
   "mimetype": "text/x-python",
   "name": "python",
   "nbconvert_exporter": "python",
   "pygments_lexer": "ipython3",
   "version": "3.5.2"
  }
 },
 "nbformat": 4,
 "nbformat_minor": 1
}
